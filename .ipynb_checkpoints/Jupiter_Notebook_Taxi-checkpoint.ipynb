{
 "cells": [
  {
   "cell_type": "code",
   "execution_count": 1,
   "metadata": {},
   "outputs": [
    {
     "name": "stdout",
     "output_type": "stream",
     "text": [
      "medallion, hack_license, vendor_id, rate_code, store_and_fwd_flag, pickup_datetime, dropoff_datetime, passenger_count, trip_time_in_secs, trip_distance, pickup_longitude, pickup_latitude, dropoff_longitude, dropoff_latitude\n",
      "\n",
      "0.0012242794036865234\n"
     ]
    }
   ],
   "source": [
    "import csv\n",
    "import time\n",
    "\n",
    "start = time.time()\n",
    "\n",
    "fn = 'Sources/trip_data_7.csv'\n",
    "f = open(fn, \"r\")\n",
    "n = 0\n",
    "for line in f:\n",
    "    print(line)\n",
    "    break\n",
    "print(time.time()-start)"
   ]
  },
  {
   "cell_type": "code",
   "execution_count": 2,
   "metadata": {},
   "outputs": [
    {
     "ename": "AttributeError",
     "evalue": "'_io.TextIOWrapper' object has no attribute 'head'",
     "output_type": "error",
     "traceback": [
      "\u001b[0;31m---------------------------------------------------------------------------\u001b[0m",
      "\u001b[0;31mAttributeError\u001b[0m                            Traceback (most recent call last)",
      "\u001b[0;32m<ipython-input-2-497a70675921>\u001b[0m in \u001b[0;36m<module>\u001b[0;34m\u001b[0m\n\u001b[0;32m----> 1\u001b[0;31m \u001b[0mf\u001b[0m\u001b[0;34m.\u001b[0m\u001b[0mhead\u001b[0m\u001b[0;34m(\u001b[0m\u001b[0;34m)\u001b[0m\u001b[0;34m\u001b[0m\u001b[0;34m\u001b[0m\u001b[0m\n\u001b[0m",
      "\u001b[0;31mAttributeError\u001b[0m: '_io.TextIOWrapper' object has no attribute 'head'"
     ]
    }
   ],
   "source": [
    "f.head()"
   ]
  },
  {
   "cell_type": "code",
   "execution_count": 3,
   "metadata": {},
   "outputs": [
    {
     "ename": "NameError",
     "evalue": "name 'head' is not defined",
     "output_type": "error",
     "traceback": [
      "\u001b[0;31m---------------------------------------------------------------------------\u001b[0m",
      "\u001b[0;31mNameError\u001b[0m                                 Traceback (most recent call last)",
      "\u001b[0;32m<ipython-input-3-0c613cb1bac8>\u001b[0m in \u001b[0;36m<module>\u001b[0;34m\u001b[0m\n\u001b[0;32m----> 1\u001b[0;31m \u001b[0mhead\u001b[0m\u001b[0;34m(\u001b[0m\u001b[0mf\u001b[0m\u001b[0;34m)\u001b[0m\u001b[0;34m\u001b[0m\u001b[0;34m\u001b[0m\u001b[0m\n\u001b[0m",
      "\u001b[0;31mNameError\u001b[0m: name 'head' is not defined"
     ]
    }
   ],
   "source": [
    "head(f)"
   ]
  },
  {
   "cell_type": "code",
   "execution_count": 5,
   "metadata": {},
   "outputs": [
    {
     "name": "stdout",
     "output_type": "stream",
     "text": [
      "                          medallion                      hack_license  \\\n",
      "0  9406D2C34715E1DA10AD4D4DDADF4DA5  0602DFD837433635FE860BDE2F14BC3A   \n",
      "1  73495B48481E673AD8D7578764C9EC98  66DA261DA2E0305435786C152085CCC2   \n",
      "2  85B6168FC88F4914E4741015B1678BF4  C2DB36C1124AB69269DBE1D3D39D37DB   \n",
      "3  85B6168FC88F4914E4741015B1678BF4  C2DB36C1124AB69269DBE1D3D39D37DB   \n",
      "4  8C6CFF1ED34957DCF1547C3C38EE0490  65AB951A1B846C3B0581A8A473830F73   \n",
      "\n",
      "   vendor_id   rate_code  store_and_fwd_flag      pickup_datetime  \\\n",
      "0        VTS           1                 NaN  2013-07-01 01:47:00   \n",
      "1        VTS           1                 NaN  2013-07-01 01:39:00   \n",
      "2        VTS           1                 NaN  2013-07-01 01:36:00   \n",
      "3        VTS           1                 NaN  2013-07-01 01:53:00   \n",
      "4        VTS           1                 NaN  2013-07-01 01:47:00   \n",
      "\n",
      "      dropoff_datetime   passenger_count   trip_time_in_secs   trip_distance  \\\n",
      "0  2013-07-01 01:52:00                 1                 300            1.17   \n",
      "1  2013-07-01 01:52:00                 1                 780            4.17   \n",
      "2  2013-07-01 01:50:00                 1                 840            2.98   \n",
      "3  2013-07-01 01:57:00                 1                 240            0.75   \n",
      "4  2013-07-01 01:59:00                 1                 720            1.76   \n",
      "\n",
      "    pickup_longitude   pickup_latitude   dropoff_longitude   dropoff_latitude  \n",
      "0         -74.013229         40.714718          -74.003494          40.725285  \n",
      "1         -73.980865         40.763947          -73.933884          40.767677  \n",
      "2         -74.007568         40.740898          -73.980118          40.713985  \n",
      "3         -73.985466         40.718342          -73.982841          40.727016  \n",
      "4         -74.005630         40.726448          -74.003906          40.742031  \n"
     ]
    }
   ],
   "source": [
    "import pandas as pd\n",
    "import time\n",
    "\n",
    "start = time.time()\n",
    "\n",
    "fn = pd.read_csv('Sources/trip_data_7.csv')\n",
    "print(fn.head(5))"
   ]
  },
  {
   "cell_type": "code",
   "execution_count": 6,
   "metadata": {},
   "outputs": [
    {
     "name": "stdout",
     "output_type": "stream",
     "text": [
      "medallion, hack_license, vendor_id, rate_code, store_and_fwd_flag, pickup_datetime, dropoff_datetime, passenger_count, trip_time_in_secs, trip_distance, pickup_longitude, pickup_latitude, dropoff_longitude, dropoff_latitude\n",
      "\n",
      "1.6724319458007812\n"
     ]
    }
   ],
   "source": [
    "import csv\n",
    "import time\n",
    "\n",
    "# initializing start time\n",
    "start = time.time()\n",
    "\n",
    "# opening file in read form\n",
    "fn = 'Sources/trip_data_7.csv'\n",
    "f = open(fn, \"r\")\n",
    "n = 0\n",
    "\n",
    "# printing header of the file\n",
    "for line in f:\n",
    "    print(line)\n",
    "    break\n",
    "\n",
    "# printing time\n",
    "print(time.time()-start)\n"
   ]
  },
  {
   "cell_type": "code",
   "execution_count": 41,
   "metadata": {
    "scrolled": false
   },
   "outputs": [
    {
     "name": "stdout",
     "output_type": "stream",
     "text": [
      "['medallion', ' hack_license', ' vendor_id', ' rate_code', ' store_and_fwd_flag', ' pickup_datetime', ' dropoff_datetime', ' passenger_count', ' trip_time_in_secs', ' trip_distance', ' pickup_longitude', ' pickup_latitude', ' dropoff_longitude', ' dropoff_latitude']\n",
      "0.03549504280090332\n"
     ]
    }
   ],
   "source": [
    "import csv\n",
    "import time\n",
    "\n",
    "# initializing start time\n",
    "start = time.time()\n",
    "\n",
    "# opening file in read form\n",
    "fn = 'Sources/trip_data_7.csv'\n",
    "f = open(fn, \"r\")\n",
    "reader = csv.reader(f)\n",
    "\n",
    "# printing header of the file\n",
    "n=0\n",
    "for row in reader:\n",
    "    if n==0 :\n",
    "        print(row)\n",
    "    break\n",
    "\n",
    "# printing time\n",
    "print(time.time()-start)"
   ]
  },
  {
   "cell_type": "code",
   "execution_count": 43,
   "metadata": {},
   "outputs": [
    {
     "ename": "SyntaxError",
     "evalue": "invalid syntax (<ipython-input-43-462d733f7845>, line 25)",
     "output_type": "error",
     "traceback": [
      "\u001b[0;36m  File \u001b[0;32m\"<ipython-input-43-462d733f7845>\"\u001b[0;36m, line \u001b[0;32m25\u001b[0m\n\u001b[0;31m    pickuptime = datetime.strptime(row['pickup_datetime'],%m/%d/%y %H:%M:%S)\u001b[0m\n\u001b[0m                                                          ^\u001b[0m\n\u001b[0;31mSyntaxError\u001b[0m\u001b[0;31m:\u001b[0m invalid syntax\n"
     ]
    }
   ],
   "source": [
    "import csv\n",
    "import time\n",
    "from datetime import datetime\n",
    "\n",
    "# initializing start time\n",
    "start = time.time()\n",
    "\n",
    "# opening file in read form\n",
    "fn = 'Sources/trip_data_7.csv'\n",
    "f = open(fn, \"r\")\n",
    "reader = csv.reader(f)\n",
    "\n",
    "# printing header of the file\n",
    "n = 0\n",
    "number_of_rows = 0\n",
    "min_pickup_time = None\n",
    "max_dropoff_time = None\n",
    "\n",
    "for row in reader:\n",
    "    if n == 0:\n",
    "        # this is header\n",
    "        print(\"Header of the file:\", row)\n",
    "    number_of_rows += 1\n",
    "\n",
    "    pickuptime = datetime.strptime(row['pickup_datetime'],%m/%d/%y %H:%M:%S)\n",
    "    dropofftime = datetime.strptime(row['dropoff_datetime'],%m/%d/%y %H:%M:%S)\n",
    "    if min_pickup_time is None:\n",
    "        min_pickup_time = pickuptime\n",
    "    elif pickuptime < min_pickup_time:\n",
    "        min_pickup_time = pickuptime\n",
    "\n",
    "    if max_dropoff_time is None:\n",
    "        min_pickup_time = dropofftime\n",
    "    elif dropofftime > min_pickup_time:\n",
    "        min_pickup_time = dropofftime\n",
    "\n",
    "    n += 1\n",
    "\n",
    "# subtracting number_of_rows by 1 as first row was header\n",
    "print(\"# of rows:\", number_of_rows-1)\n",
    "\n",
    "# min_pickup_time\n",
    "print(\"Data ranges from:\", min_pickup_time)\n",
    "\n",
    "# max_dropoff_time\n",
    "print(\"Data ranges till:\", max_dropoff_time)\n",
    "\n",
    "print(time.time()-start)"
   ]
  },
  {
   "cell_type": "code",
   "execution_count": 44,
   "metadata": {},
   "outputs": [
    {
     "name": "stdout",
     "output_type": "stream",
     "text": [
      "Header of the file: ['medallion', ' hack_license', ' vendor_id', ' rate_code', ' store_and_fwd_flag', ' pickup_datetime', ' dropoff_datetime', ' passenger_count', ' trip_time_in_secs', ' trip_distance', ' pickup_longitude', ' pickup_latitude', ' dropoff_longitude', ' dropoff_latitude']\n"
     ]
    },
    {
     "ename": "TypeError",
     "evalue": "list indices must be integers or slices, not str",
     "output_type": "error",
     "traceback": [
      "\u001b[0;31m---------------------------------------------------------------------------\u001b[0m",
      "\u001b[0;31mTypeError\u001b[0m                                 Traceback (most recent call last)",
      "\u001b[0;32m<ipython-input-44-89ab1740382f>\u001b[0m in \u001b[0;36m<module>\u001b[0;34m\u001b[0m\n\u001b[1;32m     23\u001b[0m     \u001b[0mnumber_of_rows\u001b[0m \u001b[0;34m+=\u001b[0m \u001b[0;36m1\u001b[0m\u001b[0;34m\u001b[0m\u001b[0;34m\u001b[0m\u001b[0m\n\u001b[1;32m     24\u001b[0m \u001b[0;34m\u001b[0m\u001b[0m\n\u001b[0;32m---> 25\u001b[0;31m     \u001b[0mpickuptime\u001b[0m \u001b[0;34m=\u001b[0m \u001b[0mdatetime\u001b[0m\u001b[0;34m.\u001b[0m\u001b[0mstrptime\u001b[0m\u001b[0;34m(\u001b[0m\u001b[0mrow\u001b[0m\u001b[0;34m[\u001b[0m\u001b[0;34m'pickup_datetime'\u001b[0m\u001b[0;34m]\u001b[0m\u001b[0;34m,\u001b[0m \u001b[0;34m'%m/%d/%y %H:%M:%S'\u001b[0m\u001b[0;34m)\u001b[0m\u001b[0;34m\u001b[0m\u001b[0;34m\u001b[0m\u001b[0m\n\u001b[0m\u001b[1;32m     26\u001b[0m     \u001b[0mdropofftime\u001b[0m \u001b[0;34m=\u001b[0m \u001b[0mdatetime\u001b[0m\u001b[0;34m.\u001b[0m\u001b[0mstrptime\u001b[0m\u001b[0;34m(\u001b[0m\u001b[0mrow\u001b[0m\u001b[0;34m[\u001b[0m\u001b[0;34m'dropoff_datetime'\u001b[0m\u001b[0;34m]\u001b[0m\u001b[0;34m,\u001b[0m \u001b[0;34m'%m/%d/%y %H:%M:%S'\u001b[0m\u001b[0;34m)\u001b[0m\u001b[0;34m\u001b[0m\u001b[0;34m\u001b[0m\u001b[0m\n\u001b[1;32m     27\u001b[0m     \u001b[0;32mif\u001b[0m \u001b[0mmin_pickup_time\u001b[0m \u001b[0;32mis\u001b[0m \u001b[0;32mNone\u001b[0m\u001b[0;34m:\u001b[0m\u001b[0;34m\u001b[0m\u001b[0;34m\u001b[0m\u001b[0m\n",
      "\u001b[0;31mTypeError\u001b[0m: list indices must be integers or slices, not str"
     ]
    }
   ],
   "source": [
    "import csv\n",
    "import time\n",
    "from datetime import datetime\n",
    "\n",
    "# initializing start time\n",
    "start = time.time()\n",
    "\n",
    "# opening file in read form\n",
    "fn = 'Sources/trip_data_7.csv'\n",
    "f = open(fn, \"r\")\n",
    "reader = csv.reader(f)\n",
    "\n",
    "# printing header of the file\n",
    "n = 0\n",
    "number_of_rows = 0\n",
    "min_pickup_time = None\n",
    "max_dropoff_time = None\n",
    "\n",
    "for row in reader:\n",
    "    if n == 0:\n",
    "        # this is header\n",
    "        print(\"Header of the file:\", row)\n",
    "    number_of_rows += 1\n",
    "\n",
    "    pickuptime = datetime.strptime(row['pickup_datetime'], '%m/%d/%y %H:%M:%S')\n",
    "    dropofftime = datetime.strptime(row['dropoff_datetime'], '%m/%d/%y %H:%M:%S')\n",
    "    if min_pickup_time is None:\n",
    "        min_pickup_time = pickuptime\n",
    "    elif pickuptime < min_pickup_time:\n",
    "        min_pickup_time = pickuptime\n",
    "\n",
    "    if max_dropoff_time is None:\n",
    "        min_pickup_time = dropofftime\n",
    "    elif dropofftime > min_pickup_time:\n",
    "        min_pickup_time = dropofftime\n",
    "\n",
    "    n += 1\n",
    "\n",
    "# subtracting number_of_rows by 1 as first row was header\n",
    "print(\"# of rows:\", number_of_rows-1)\n",
    "\n",
    "# min_pickup_time\n",
    "print(\"Data ranges from:\", min_pickup_time)\n",
    "\n",
    "# max_dropoff_time\n",
    "print(\"Data ranges till:\", max_dropoff_time)\n",
    "\n",
    "print(time.time()-start)\n"
   ]
  },
  {
   "cell_type": "code",
   "execution_count": 45,
   "metadata": {},
   "outputs": [
    {
     "ename": "ValueError",
     "evalue": "time data ' pickup_datetime' does not match format '%Y-%m-%d %H:%M:%S'",
     "output_type": "error",
     "traceback": [
      "\u001b[0;31m---------------------------------------------------------------------------\u001b[0m",
      "\u001b[0;31mValueError\u001b[0m                                Traceback (most recent call last)",
      "\u001b[0;32m<ipython-input-45-9e71833dffe2>\u001b[0m in \u001b[0;36m<module>\u001b[0;34m\u001b[0m\n\u001b[1;32m     27\u001b[0m     \u001b[0;31m# 2013-07-01 01:47:00\u001b[0m\u001b[0;34m\u001b[0m\u001b[0;34m\u001b[0m\u001b[0;34m\u001b[0m\u001b[0m\n\u001b[1;32m     28\u001b[0m \u001b[0;34m\u001b[0m\u001b[0m\n\u001b[0;32m---> 29\u001b[0;31m     \u001b[0mpickuptime\u001b[0m \u001b[0;34m=\u001b[0m \u001b[0mdatetime\u001b[0m\u001b[0;34m.\u001b[0m\u001b[0mstrptime\u001b[0m\u001b[0;34m(\u001b[0m\u001b[0mrow\u001b[0m\u001b[0;34m[\u001b[0m\u001b[0;36m5\u001b[0m\u001b[0;34m]\u001b[0m\u001b[0;34m,\u001b[0m \u001b[0;34m'%Y-%m-%d %H:%M:%S'\u001b[0m\u001b[0;34m)\u001b[0m\u001b[0;34m\u001b[0m\u001b[0;34m\u001b[0m\u001b[0m\n\u001b[0m\u001b[1;32m     30\u001b[0m     \u001b[0;31m#dropofftime = datetime.strptime(row['dropoff_datetime'], '%m/%d/%y %H:%M:%S')\u001b[0m\u001b[0;34m\u001b[0m\u001b[0;34m\u001b[0m\u001b[0;34m\u001b[0m\u001b[0m\n\u001b[1;32m     31\u001b[0m     \u001b[0;32mif\u001b[0m \u001b[0mmin_pickup_time\u001b[0m \u001b[0;32mis\u001b[0m \u001b[0;32mNone\u001b[0m\u001b[0;34m:\u001b[0m\u001b[0;34m\u001b[0m\u001b[0;34m\u001b[0m\u001b[0m\n",
      "\u001b[0;32m/opt/anaconda3/lib/python3.7/_strptime.py\u001b[0m in \u001b[0;36m_strptime_datetime\u001b[0;34m(cls, data_string, format)\u001b[0m\n\u001b[1;32m    575\u001b[0m     \"\"\"Return a class cls instance based on the input string and the\n\u001b[1;32m    576\u001b[0m     format string.\"\"\"\n\u001b[0;32m--> 577\u001b[0;31m     \u001b[0mtt\u001b[0m\u001b[0;34m,\u001b[0m \u001b[0mfraction\u001b[0m\u001b[0;34m,\u001b[0m \u001b[0mgmtoff_fraction\u001b[0m \u001b[0;34m=\u001b[0m \u001b[0m_strptime\u001b[0m\u001b[0;34m(\u001b[0m\u001b[0mdata_string\u001b[0m\u001b[0;34m,\u001b[0m \u001b[0mformat\u001b[0m\u001b[0;34m)\u001b[0m\u001b[0;34m\u001b[0m\u001b[0;34m\u001b[0m\u001b[0m\n\u001b[0m\u001b[1;32m    578\u001b[0m     \u001b[0mtzname\u001b[0m\u001b[0;34m,\u001b[0m \u001b[0mgmtoff\u001b[0m \u001b[0;34m=\u001b[0m \u001b[0mtt\u001b[0m\u001b[0;34m[\u001b[0m\u001b[0;34m-\u001b[0m\u001b[0;36m2\u001b[0m\u001b[0;34m:\u001b[0m\u001b[0;34m]\u001b[0m\u001b[0;34m\u001b[0m\u001b[0;34m\u001b[0m\u001b[0m\n\u001b[1;32m    579\u001b[0m     \u001b[0margs\u001b[0m \u001b[0;34m=\u001b[0m \u001b[0mtt\u001b[0m\u001b[0;34m[\u001b[0m\u001b[0;34m:\u001b[0m\u001b[0;36m6\u001b[0m\u001b[0;34m]\u001b[0m \u001b[0;34m+\u001b[0m \u001b[0;34m(\u001b[0m\u001b[0mfraction\u001b[0m\u001b[0;34m,\u001b[0m\u001b[0;34m)\u001b[0m\u001b[0;34m\u001b[0m\u001b[0;34m\u001b[0m\u001b[0m\n",
      "\u001b[0;32m/opt/anaconda3/lib/python3.7/_strptime.py\u001b[0m in \u001b[0;36m_strptime\u001b[0;34m(data_string, format)\u001b[0m\n\u001b[1;32m    357\u001b[0m     \u001b[0;32mif\u001b[0m \u001b[0;32mnot\u001b[0m \u001b[0mfound\u001b[0m\u001b[0;34m:\u001b[0m\u001b[0;34m\u001b[0m\u001b[0;34m\u001b[0m\u001b[0m\n\u001b[1;32m    358\u001b[0m         raise ValueError(\"time data %r does not match format %r\" %\n\u001b[0;32m--> 359\u001b[0;31m                          (data_string, format))\n\u001b[0m\u001b[1;32m    360\u001b[0m     \u001b[0;32mif\u001b[0m \u001b[0mlen\u001b[0m\u001b[0;34m(\u001b[0m\u001b[0mdata_string\u001b[0m\u001b[0;34m)\u001b[0m \u001b[0;34m!=\u001b[0m \u001b[0mfound\u001b[0m\u001b[0;34m.\u001b[0m\u001b[0mend\u001b[0m\u001b[0;34m(\u001b[0m\u001b[0;34m)\u001b[0m\u001b[0;34m:\u001b[0m\u001b[0;34m\u001b[0m\u001b[0;34m\u001b[0m\u001b[0m\n\u001b[1;32m    361\u001b[0m         raise ValueError(\"unconverted data remains: %s\" %\n",
      "\u001b[0;31mValueError\u001b[0m: time data ' pickup_datetime' does not match format '%Y-%m-%d %H:%M:%S'"
     ]
    }
   ],
   "source": [
    "import csv\n",
    "import time\n",
    "from datetime import datetime\n",
    "\n",
    "# initializing start time\n",
    "start = time.time()\n",
    "\n",
    "# opening file in read form\n",
    "fn = 'Sources/trip_data_7.csv'\n",
    "f = open(fn, \"r\")\n",
    "reader = csv.reader(f)\n",
    "\n",
    "# printing header of the file\n",
    "n = 0\n",
    "number_of_rows = 0\n",
    "min_pickup_time = None\n",
    "max_dropoff_time = None\n",
    "\n",
    "for row in reader:\n",
    "    if n == 1:\n",
    "        # this is header\n",
    "        print(\"Header of the file:\", row)\n",
    "        break\n",
    "    number_of_rows += 1\n",
    "    n += 1\n",
    "\n",
    "    # 2013-07-01 01:47:00\n",
    "\n",
    "    pickuptime = datetime.strptime(row[5], '%Y-%m-%d %H:%M:%S')\n",
    "    #dropofftime = datetime.strptime(row['dropoff_datetime'], '%m/%d/%y %H:%M:%S')\n",
    "    if min_pickup_time is None:\n",
    "        min_pickup_time = pickuptime\n",
    "    elif pickuptime < min_pickup_time:\n",
    "        min_pickup_time = pickuptime\n",
    "        '''\n",
    "    if max_dropoff_time is None:\n",
    "        min_pickup_time = dropofftime\n",
    "    elif dropofftime > min_pickup_time:\n",
    "        min_pickup_time = dropofftime\n",
    "        '''\n",
    "\n",
    "\n",
    "# subtracting number_of_rows by 1 as first row was header\n",
    "print(\"# of rows:\", number_of_rows-1)\n",
    "\n",
    "# min_pickup_time\n",
    "print(\"Data ranges from:\", min_pickup_time)\n",
    "\n",
    "# max_dropoff_time\n",
    "print(\"Data ranges till:\", max_dropoff_time)\n",
    "\n",
    "print(time.time()-start)\n"
   ]
  },
  {
   "cell_type": "code",
   "execution_count": null,
   "metadata": {},
   "outputs": [],
   "source": []
  }
 ],
 "metadata": {
  "kernelspec": {
   "display_name": "Python 3",
   "language": "python",
   "name": "python3"
  },
  "language_info": {
   "codemirror_mode": {
    "name": "ipython",
    "version": 3
   },
   "file_extension": ".py",
   "mimetype": "text/x-python",
   "name": "python",
   "nbconvert_exporter": "python",
   "pygments_lexer": "ipython3",
   "version": "3.7.4"
  }
 },
 "nbformat": 4,
 "nbformat_minor": 2
}
