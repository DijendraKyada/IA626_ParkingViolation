{
 "cells": [
  {
   "cell_type": "code",
   "execution_count": 1,
   "metadata": {},
   "outputs": [
    {
     "name": "stdout",
     "output_type": "stream",
     "text": [
      "medallion, hack_license, vendor_id, rate_code, store_and_fwd_flag, pickup_datetime, dropoff_datetime, passenger_count, trip_time_in_secs, trip_distance, pickup_longitude, pickup_latitude, dropoff_longitude, dropoff_latitude\n",
      "\n",
      "0.0012242794036865234\n"
     ]
    }
   ],
   "source": [
    "import csv\n",
    "import time\n",
    "\n",
    "start = time.time()\n",
    "\n",
    "fn = 'Sources/trip_data_7.csv'\n",
    "f = open(fn, \"r\")\n",
    "n = 0\n",
    "for line in f:\n",
    "    print(line)\n",
    "    break\n",
    "print(time.time()-start)"
   ]
  },
  {
   "cell_type": "code",
   "execution_count": 2,
   "metadata": {},
   "outputs": [
    {
     "ename": "AttributeError",
     "evalue": "'_io.TextIOWrapper' object has no attribute 'head'",
     "output_type": "error",
     "traceback": [
      "\u001b[0;31m---------------------------------------------------------------------------\u001b[0m",
      "\u001b[0;31mAttributeError\u001b[0m                            Traceback (most recent call last)",
      "\u001b[0;32m<ipython-input-2-497a70675921>\u001b[0m in \u001b[0;36m<module>\u001b[0;34m\u001b[0m\n\u001b[0;32m----> 1\u001b[0;31m \u001b[0mf\u001b[0m\u001b[0;34m.\u001b[0m\u001b[0mhead\u001b[0m\u001b[0;34m(\u001b[0m\u001b[0;34m)\u001b[0m\u001b[0;34m\u001b[0m\u001b[0;34m\u001b[0m\u001b[0m\n\u001b[0m",
      "\u001b[0;31mAttributeError\u001b[0m: '_io.TextIOWrapper' object has no attribute 'head'"
     ]
    }
   ],
   "source": [
    "f.head()"
   ]
  },
  {
   "cell_type": "code",
   "execution_count": 3,
   "metadata": {},
   "outputs": [
    {
     "ename": "NameError",
     "evalue": "name 'head' is not defined",
     "output_type": "error",
     "traceback": [
      "\u001b[0;31m---------------------------------------------------------------------------\u001b[0m",
      "\u001b[0;31mNameError\u001b[0m                                 Traceback (most recent call last)",
      "\u001b[0;32m<ipython-input-3-0c613cb1bac8>\u001b[0m in \u001b[0;36m<module>\u001b[0;34m\u001b[0m\n\u001b[0;32m----> 1\u001b[0;31m \u001b[0mhead\u001b[0m\u001b[0;34m(\u001b[0m\u001b[0mf\u001b[0m\u001b[0;34m)\u001b[0m\u001b[0;34m\u001b[0m\u001b[0;34m\u001b[0m\u001b[0m\n\u001b[0m",
      "\u001b[0;31mNameError\u001b[0m: name 'head' is not defined"
     ]
    }
   ],
   "source": [
    "head(f)"
   ]
  },
  {
   "cell_type": "code",
   "execution_count": 5,
   "metadata": {},
   "outputs": [
    {
     "name": "stdout",
     "output_type": "stream",
     "text": [
      "                          medallion                      hack_license  \\\n",
      "0  9406D2C34715E1DA10AD4D4DDADF4DA5  0602DFD837433635FE860BDE2F14BC3A   \n",
      "1  73495B48481E673AD8D7578764C9EC98  66DA261DA2E0305435786C152085CCC2   \n",
      "2  85B6168FC88F4914E4741015B1678BF4  C2DB36C1124AB69269DBE1D3D39D37DB   \n",
      "3  85B6168FC88F4914E4741015B1678BF4  C2DB36C1124AB69269DBE1D3D39D37DB   \n",
      "4  8C6CFF1ED34957DCF1547C3C38EE0490  65AB951A1B846C3B0581A8A473830F73   \n",
      "\n",
      "   vendor_id   rate_code  store_and_fwd_flag      pickup_datetime  \\\n",
      "0        VTS           1                 NaN  2013-07-01 01:47:00   \n",
      "1        VTS           1                 NaN  2013-07-01 01:39:00   \n",
      "2        VTS           1                 NaN  2013-07-01 01:36:00   \n",
      "3        VTS           1                 NaN  2013-07-01 01:53:00   \n",
      "4        VTS           1                 NaN  2013-07-01 01:47:00   \n",
      "\n",
      "      dropoff_datetime   passenger_count   trip_time_in_secs   trip_distance  \\\n",
      "0  2013-07-01 01:52:00                 1                 300            1.17   \n",
      "1  2013-07-01 01:52:00                 1                 780            4.17   \n",
      "2  2013-07-01 01:50:00                 1                 840            2.98   \n",
      "3  2013-07-01 01:57:00                 1                 240            0.75   \n",
      "4  2013-07-01 01:59:00                 1                 720            1.76   \n",
      "\n",
      "    pickup_longitude   pickup_latitude   dropoff_longitude   dropoff_latitude  \n",
      "0         -74.013229         40.714718          -74.003494          40.725285  \n",
      "1         -73.980865         40.763947          -73.933884          40.767677  \n",
      "2         -74.007568         40.740898          -73.980118          40.713985  \n",
      "3         -73.985466         40.718342          -73.982841          40.727016  \n",
      "4         -74.005630         40.726448          -74.003906          40.742031  \n"
     ]
    }
   ],
   "source": [
    "import pandas as pd\n",
    "import time\n",
    "\n",
    "start = time.time()\n",
    "\n",
    "fn = pd.read_csv('Sources/trip_data_7.csv')\n",
    "print(fn.head(5))"
   ]
  },
  {
   "cell_type": "code",
   "execution_count": 6,
   "metadata": {},
   "outputs": [
    {
     "name": "stdout",
     "output_type": "stream",
     "text": [
      "medallion, hack_license, vendor_id, rate_code, store_and_fwd_flag, pickup_datetime, dropoff_datetime, passenger_count, trip_time_in_secs, trip_distance, pickup_longitude, pickup_latitude, dropoff_longitude, dropoff_latitude\n",
      "\n",
      "1.6724319458007812\n"
     ]
    }
   ],
   "source": [
    "import csv\n",
    "import time\n",
    "\n",
    "# initializing start time\n",
    "start = time.time()\n",
    "\n",
    "# opening file in read form\n",
    "fn = 'Sources/trip_data_7.csv'\n",
    "f = open(fn, \"r\")\n",
    "n = 0\n",
    "\n",
    "# printing header of the file\n",
    "for line in f:\n",
    "    print(line)\n",
    "    break\n",
    "\n",
    "# printing time\n",
    "print(time.time()-start)\n"
   ]
  },
  {
   "cell_type": "code",
   "execution_count": null,
   "metadata": {
    "scrolled": false
   },
   "outputs": [],
   "source": [
    "import csv\n",
    "import time\n",
    "\n",
    "# initializing start time\n",
    "start = time.time()\n",
    "\n",
    "# opening file in read form\n",
    "fn = 'Sources/trip_data_7.csv'\n",
    "f = open(fn, \"r\")\n",
    "reader = csv.reader(f)\n",
    "\n",
    "# printing header of the file\n",
    "n=0\n",
    "for row in reader:\n",
    "    if n==0 :\n",
    "        print(row)\n",
    "    break\n",
    "\n",
    "# printing time\n",
    "print(time.time()-start)"
   ]
  },
  {
   "cell_type": "code",
   "execution_count": null,
   "metadata": {},
   "outputs": [],
   "source": []
  }
 ],
 "metadata": {
  "kernelspec": {
   "display_name": "Python 3",
   "language": "python",
   "name": "python3"
  },
  "language_info": {
   "codemirror_mode": {
    "name": "ipython",
    "version": 3
   },
   "file_extension": ".py",
   "mimetype": "text/x-python",
   "name": "python",
   "nbconvert_exporter": "python",
   "pygments_lexer": "ipython3",
   "version": "3.7.4"
  }
 },
 "nbformat": 4,
 "nbformat_minor": 2
}
